{
 "cells": [
  {
   "cell_type": "code",
   "execution_count": 10,
   "metadata": {},
   "outputs": [],
   "source": [
    "from collections import namedtuple, defaultdict\n",
    "from abc import ABC, abstractmethod\n",
    "from random import choice\n",
    "import math\n",
    "import time"
   ]
  },
  {
   "attachments": {},
   "cell_type": "markdown",
   "metadata": {},
   "source": [
    "This is closely following https://gist.github.com/qpwo/c538c6f73727e254fdc7fab81024f6e1"
   ]
  },
  {
   "cell_type": "code",
   "execution_count": 11,
   "metadata": {},
   "outputs": [],
   "source": [
    "class Node(ABC):\n",
    "    '''Base class for nodes in the search tree. Should be subclassed for specific games. Represents the current state'''\n",
    "    @abstractmethod\n",
    "    def get_children(self):\n",
    "        '''Returns a set of all child states of the current state by taking all actions available from the current state'''\n",
    "        return set()\n",
    "\n",
    "    @abstractmethod\n",
    "    def get_random_child(self):\n",
    "        '''Returns a random child state of the current state. Useful for efficient roll-outs'''\n",
    "        return None\n",
    "\n",
    "    @abstractmethod\n",
    "    def is_terminal(self):\n",
    "        '''Returns True if the current state is a terminal state'''\n",
    "        return False\n",
    "\n",
    "    @abstractmethod\n",
    "    def get_reward(self):\n",
    "        '''Returns the reward of the current state. Should only be called if the current state is a terminal state.'''\n",
    "        return 0\n",
    "\n",
    "    @abstractmethod\n",
    "    def __hash__(self):\n",
    "        '''Nodes must be hashable'''\n",
    "        return 1234565789\n",
    "\n",
    "    @abstractmethod\n",
    "    def __eq__(self, other):\n",
    "        '''Nodes must be comparable'''\n",
    "        return True"
   ]
  },
  {
   "attachments": {},
   "cell_type": "markdown",
   "metadata": {},
   "source": [
    "I want to try this out on tic-tac-toe, an homage to the real OGs. \n",
    "I like the board representation from the git, so I'll use it.\n",
    "\n",
    "A tic tac toe board is a 9-tuple of None, True, or False for empty, X, or O respectively.\n",
    "E.g. \n",
    "\n",
    "O - -\n",
    "\n",
    "\\- X -\n",
    "\n",
    "\\- - X\n",
    "\n",
    "would be \n",
    "(False, None, None, None, True, None, None, None, True)\n",
    "\n",
    "Along those lines, player X is True and player O is False."
   ]
  },
  {
   "cell_type": "code",
   "execution_count": 12,
   "metadata": {},
   "outputs": [],
   "source": [
    "_TTTB = namedtuple('TTTB', \"board_state player_to_move winner terminal\")\n",
    "\n",
    "class TicTacToeBoard(_TTTB, Node):\n",
    "    def get_children(board):\n",
    "        '''Return the new tic tac toe boards that result from taking all available actions in the board_state that are available to play in. The indices that are None in board_state.'''\n",
    "        if board.is_terminal():\n",
    "            return set()\n",
    "        else:\n",
    "            return {\n",
    "                board.make_move(i) for i, val in enumerate(board.board_state) if val is None\n",
    "            }\n",
    "        \n",
    "    def make_move(board, index):\n",
    "        '''\n",
    "        Makes a new tic tac toe board with the current player marking index\n",
    "        This is where everything is calculated because this is where the new board object is created.\n",
    "        '''\n",
    "        if board.is_terminal():\n",
    "            raise RuntimeError(\"You can't play on a terminal board state.\")\n",
    "        current_board_state = board.board_state\n",
    "        if current_board_state[index] is not None:\n",
    "            raise RuntimeError(\"You can't play there, that spot is already taken.\")\n",
    "        current_player = board.player_to_move\n",
    "        new_board_state = current_board_state[:index]+(current_player,)+current_board_state[index+1:]\n",
    "        next_player = not current_player\n",
    "        winner = _find_winner(new_board_state)\n",
    "        is_terminal = (winner is not None) or (None not in new_board_state) # Check if there is a winner or if the board is full\n",
    "        return TicTacToeBoard(new_board_state, next_player, winner, is_terminal)\n",
    "    \n",
    "    def get_random_child(board):\n",
    "        possible_actions = [i for i, val in enumerate(board.board_state) if val is None]\n",
    "        chosen_action = choice(possible_actions)\n",
    "        return board.make_move(chosen_action)\n",
    "    \n",
    "    def is_terminal(board):\n",
    "        return board.terminal\n",
    "        \n",
    "    def get_reward(board):\n",
    "        '''Only ever called on the agents's turn, aka, board.player_to_move should always be false.'''\n",
    "        '''It is through backpropagation of the tree that we get a reward of one. See implementation of MCTS'''\n",
    "        if not board.terminal:\n",
    "            raise RuntimeError(\"Calling get_reward on a non-terminal board state.\")\n",
    "        if board.winner is board.player_to_move:\n",
    "            raise RuntimeError(\"That's weird, how did you win on your opponent's turn?🤔\")\n",
    "        if board.player_to_move is (not board.winner):\n",
    "            # Opponent wins\n",
    "            return 0\n",
    "        if board.winner is None:\n",
    "            return 0.5\n",
    "        raise RuntimeError(\"Wellp, something weird is happening. Here is the state of the game when you called get_reward\"+board.to_pretty_string())\n",
    "    \n",
    "    def to_pretty_string(board):\n",
    "        to_char = lambda v: (\"X\" if v is True else (\"O\" if v is False else \" \"))\n",
    "        rows = [\n",
    "            [to_char(board.board_state[3 * row + col]) for col in range(3)] for row in range(3)\n",
    "        ]\n",
    "        return (\n",
    "            \"\\n Player to move: \" + (\"X\" if board.player_to_move else \"O\") + \"\\n\"\n",
    "            \"\\n  1 2 3\\n\"\n",
    "            + \"\\n\".join(str(i + 1) + \" \" + \" \".join(row) for i, row in enumerate(rows))\n",
    "            + \"\\n\"\n",
    "        )\n",
    "\n",
    "def _winning_combos():\n",
    "    for start in range(0, 9, 3):  # three in a row\n",
    "        yield (start, start + 1, start + 2)\n",
    "    for start in range(3):  # three in a column\n",
    "        yield (start, start + 3, start + 6)\n",
    "    yield (0, 4, 8)  # down-right diagonal\n",
    "    yield (2, 4, 6)  # down-left diagonal\n",
    "\n",
    "\n",
    "def _find_winner(tup):\n",
    "    \"Returns None if no winner, True if X wins, False if O wins\"\n",
    "    for i1, i2, i3 in _winning_combos():\n",
    "        v1, v2, v3 = tup[i1], tup[i2], tup[i3]\n",
    "        if False is v1 is v2 is v3:\n",
    "            return False\n",
    "        if True is v1 is v2 is v3:\n",
    "            return True\n",
    "    return None\n"
   ]
  },
  {
   "cell_type": "code",
   "execution_count": 13,
   "metadata": {},
   "outputs": [],
   "source": [
    "board = TicTacToeBoard(board_state=(None,)*9, player_to_move=True, winner=None, terminal=False)"
   ]
  },
  {
   "cell_type": "code",
   "execution_count": 14,
   "metadata": {},
   "outputs": [
    {
     "name": "stdout",
     "output_type": "stream",
     "text": [
      "\n",
      " Player to move: X\n",
      "\n",
      "  1 2 3\n",
      "1      \n",
      "2      \n",
      "3      \n",
      "\n",
      "\n",
      " Player to move: O\n",
      "\n",
      "  1 2 3\n",
      "1   X  \n",
      "2      \n",
      "3      \n",
      "\n"
     ]
    }
   ],
   "source": [
    "print(board.to_pretty_string())\n",
    "board = board.make_move(1)\n",
    "print(board.to_pretty_string())"
   ]
  },
  {
   "attachments": {},
   "cell_type": "markdown",
   "metadata": {},
   "source": [
    "Now let's implement and understand the MCTS algorithm."
   ]
  },
  {
   "cell_type": "code",
   "execution_count": 15,
   "metadata": {},
   "outputs": [],
   "source": [
    "class MCTS:\n",
    "    '''Monte-Carlo tree search implementation.'''\n",
    "    def __init__(self, exploration_weight=1):\n",
    "        self.total_rewards = defaultdict(int) #This will store the total reward at each node, tbh, Q is not a great name\n",
    "        self.number_of_visits = defaultdict(int) # This will store the number of visits to each node\n",
    "        self.children = dict() # This stores the children of each node\n",
    "        self.exploration_weight = exploration_weight\n",
    "\n",
    "    def choose(self, node:Node):\n",
    "        ''' Choose the best action available at the current node. PUCT, UCT, MCTS choice criterion'''\n",
    "        if node.is_terminal():\n",
    "            raise RuntimeError(\"The game is over, no further actions can be taken.\")\n",
    "        if node not in self.children:\n",
    "            return node.get_random_child()\n",
    "        \n",
    "        def score(n:Node):\n",
    "            '''\n",
    "            This is the most basic implementation of MCTS that just exploits and doesn't balance exploitation and exploration(e.g. UCT).\n",
    "            score = $\\frac{total_rewards[n]}{number_of_visits[n]}$\n",
    "            '''\n",
    "            if self.number_of_visits[n] == 0:\n",
    "                return float(\"-inf\") # unseen state\n",
    "            return self.total_rewards[n]/self.number_of_visits[n]\n",
    "        \n",
    "        return max(self.children[node], key=score)\n",
    "    \n",
    "    def do_rollout(self, node:Node):\n",
    "        '''MCTS rollout algorithm'''\n",
    "        path = self._select(node) # first select an unexplored node\n",
    "        unexplored_node = path[-1]\n",
    "        self._expand(unexplored_node)\n",
    "        reward = self._simulate(unexplored_node)\n",
    "        self._backpropagate(path, reward)\n",
    "\n",
    "    def _select(self, node:Node):\n",
    "        '''Find an unexplored child of node'''\n",
    "        path = []\n",
    "        while True:\n",
    "            path.append(node)\n",
    "            if node not in self.children or not self.children[node]:\n",
    "                return path # node will be in self.children if it has been explored, and if self.children[node] is empty, not self.children[node] is True\n",
    "            unexplored = self.children[node] - self.children.keys() # children available to explore minus the children that have already been explored\n",
    "            if unexplored:\n",
    "                next_node = unexplored.pop()\n",
    "                path.append(next_node)\n",
    "                return path\n",
    "            node = self._uct_select(node)\n",
    "        \n",
    "    def _expand(self, node:Node):\n",
    "        '''Add node to the self.children dictionary'''\n",
    "        if node in self.children:\n",
    "            return\n",
    "        self.children[node] = node.get_children()\n",
    "\n",
    "    def _simulate(self, node:Node):\n",
    "        '''Returns the reward for a random simulation of the game from node'''\n",
    "        reward = 0 # we are always simulating from a reset state\n",
    "        while True:\n",
    "            reward += node.get_reward()\n",
    "            if node.is_terminal():\n",
    "                return reward\n",
    "            node = node.get_random_child()\n",
    "\n",
    "    def _backpropagate(self, path, reward):\n",
    "        '''Propagates reward backwards through ancestor nodes'''\n",
    "        for node in reversed(path):\n",
    "            self.number_of_visits[node] +=1\n",
    "            self.total_rewards[node] += reward\n",
    "\n",
    "    def _uct_select(self, node:Node):\n",
    "        # Every child of this node must be expanded\n",
    "        assert all(n in self.children for n in self.children[node])\n",
    "\n",
    "        log_number_of_visits_vertex = math.log(self.number_of_visits[node])\n",
    "\n",
    "        def uct(n:Node):\n",
    "            return self.total_rewards[n]/self.number_of_visits[n] + self.exploration_weight * math.sqrt(log_number_of_visits_vertex/self.number_of_visits[n])\n",
    "        \n",
    "        return max(self.children[node], key=uct)\n"
   ]
  },
  {
   "cell_type": "code",
   "execution_count": 16,
   "metadata": {},
   "outputs": [],
   "source": [
    "\n",
    "def new_tic_tac_toe_board():\n",
    "    return TicTacToeBoard(board_state=(None,) * 9, player_to_move=True, winner=None, terminal=False)\n"
   ]
  },
  {
   "cell_type": "code",
   "execution_count": 17,
   "metadata": {},
   "outputs": [],
   "source": [
    "def play_game(number_of_games=100, agent_A_rollouts=5, agent_B_rollouts=5, human_input=False, slow_time=False, print_games=False, print_intermediate_info=False):\n",
    "    A_wins = 0\n",
    "    B_wins = 0\n",
    "    ties = 0\n",
    "    treeA = MCTS()\n",
    "    treeB = MCTS()\n",
    "\n",
    "    for i in range(number_of_games):\n",
    "        board = new_tic_tac_toe_board()\n",
    "        if print_games:print(board.to_pretty_string())\n",
    "        while True:\n",
    "            if human_input:\n",
    "                row_col = input(\"enter row,col: \")\n",
    "                row, col = map(int, row_col.split(\",\"))\n",
    "                index = 3 * (row - 1) + (col - 1)\n",
    "                board = board.make_move(index)\n",
    "            else:\n",
    "                for _ in range(agent_A_rollouts):\n",
    "                    treeA.do_rollout(board)\n",
    "                board = treeA.choose(board)\n",
    "            if print_games: print(board.to_pretty_string())\n",
    "            if board.terminal:\n",
    "                if board.winner is None:\n",
    "                    ties+=1\n",
    "                else: \n",
    "                    A_wins+=1\n",
    "                break\n",
    "            if slow_time: time.sleep(1)\n",
    "            # You can train as you go, or only at the beginning.\n",
    "            # Here, we train as we go, doing fifty rollouts each turn.\n",
    "            for _ in range(agent_B_rollouts):\n",
    "                treeB.do_rollout(board)\n",
    "            board = treeB.choose(board)\n",
    "            if print_games: print(board.to_pretty_string())\n",
    "            if board.terminal:\n",
    "                if board.winner is None:\n",
    "                    ties+=1\n",
    "                else:\n",
    "                    B_wins+=1\n",
    "                break\n",
    "            if slow_time: time.sleep(1)\n",
    "        if print_intermediate_info: print(f\"Game {i+1} over. A_wins: {A_wins}, B_wins: {B_wins}, ties: {ties}\")\n",
    "\n",
    "    print(f\"Player A won {A_wins} times, Player B won {B_wins} times, and there were {ties} ties.\")\n",
    "    return A_wins, B_wins, ties\n"
   ]
  },
  {
   "cell_type": "code",
   "execution_count": 18,
   "metadata": {},
   "outputs": [
    {
     "ename": "RuntimeError",
     "evalue": "Calling get_reward on a non-terminal board state.",
     "output_type": "error",
     "traceback": [
      "\u001b[1;31m---------------------------------------------------------------------------\u001b[0m",
      "\u001b[1;31mRuntimeError\u001b[0m                              Traceback (most recent call last)",
      "\u001b[1;32m~\\AppData\\Local\\Temp/ipykernel_8344/1908745188.py\u001b[0m in \u001b[0;36m<module>\u001b[1;34m\u001b[0m\n\u001b[1;32m----> 1\u001b[1;33m \u001b[0mAw\u001b[0m\u001b[1;33m,\u001b[0m \u001b[0mBw\u001b[0m\u001b[1;33m,\u001b[0m \u001b[0mt\u001b[0m \u001b[1;33m=\u001b[0m \u001b[0mplay_game\u001b[0m\u001b[1;33m(\u001b[0m\u001b[1;33m)\u001b[0m\u001b[1;33m\u001b[0m\u001b[1;33m\u001b[0m\u001b[0m\n\u001b[0m",
      "\u001b[1;32m~\\AppData\\Local\\Temp/ipykernel_8344/4254060194.py\u001b[0m in \u001b[0;36mplay_game\u001b[1;34m(number_of_games, agent_A_rollouts, agent_B_rollouts, human_input, slow_time, print_games, print_intermediate_info)\u001b[0m\n\u001b[0;32m     17\u001b[0m             \u001b[1;32melse\u001b[0m\u001b[1;33m:\u001b[0m\u001b[1;33m\u001b[0m\u001b[1;33m\u001b[0m\u001b[0m\n\u001b[0;32m     18\u001b[0m                 \u001b[1;32mfor\u001b[0m \u001b[0m_\u001b[0m \u001b[1;32min\u001b[0m \u001b[0mrange\u001b[0m\u001b[1;33m(\u001b[0m\u001b[0magent_A_rollouts\u001b[0m\u001b[1;33m)\u001b[0m\u001b[1;33m:\u001b[0m\u001b[1;33m\u001b[0m\u001b[1;33m\u001b[0m\u001b[0m\n\u001b[1;32m---> 19\u001b[1;33m                     \u001b[0mtreeA\u001b[0m\u001b[1;33m.\u001b[0m\u001b[0mdo_rollout\u001b[0m\u001b[1;33m(\u001b[0m\u001b[0mboard\u001b[0m\u001b[1;33m)\u001b[0m\u001b[1;33m\u001b[0m\u001b[1;33m\u001b[0m\u001b[0m\n\u001b[0m\u001b[0;32m     20\u001b[0m                 \u001b[0mboard\u001b[0m \u001b[1;33m=\u001b[0m \u001b[0mtreeA\u001b[0m\u001b[1;33m.\u001b[0m\u001b[0mchoose\u001b[0m\u001b[1;33m(\u001b[0m\u001b[0mboard\u001b[0m\u001b[1;33m)\u001b[0m\u001b[1;33m\u001b[0m\u001b[1;33m\u001b[0m\u001b[0m\n\u001b[0;32m     21\u001b[0m             \u001b[1;32mif\u001b[0m \u001b[0mprint_games\u001b[0m\u001b[1;33m:\u001b[0m \u001b[0mprint\u001b[0m\u001b[1;33m(\u001b[0m\u001b[0mboard\u001b[0m\u001b[1;33m.\u001b[0m\u001b[0mto_pretty_string\u001b[0m\u001b[1;33m(\u001b[0m\u001b[1;33m)\u001b[0m\u001b[1;33m)\u001b[0m\u001b[1;33m\u001b[0m\u001b[1;33m\u001b[0m\u001b[0m\n",
      "\u001b[1;32m~\\AppData\\Local\\Temp/ipykernel_8344/3314008437.py\u001b[0m in \u001b[0;36mdo_rollout\u001b[1;34m(self, node)\u001b[0m\n\u001b[0;32m     30\u001b[0m         \u001b[0munexplored_node\u001b[0m \u001b[1;33m=\u001b[0m \u001b[0mpath\u001b[0m\u001b[1;33m[\u001b[0m\u001b[1;33m-\u001b[0m\u001b[1;36m1\u001b[0m\u001b[1;33m]\u001b[0m\u001b[1;33m\u001b[0m\u001b[1;33m\u001b[0m\u001b[0m\n\u001b[0;32m     31\u001b[0m         \u001b[0mself\u001b[0m\u001b[1;33m.\u001b[0m\u001b[0m_expand\u001b[0m\u001b[1;33m(\u001b[0m\u001b[0munexplored_node\u001b[0m\u001b[1;33m)\u001b[0m\u001b[1;33m\u001b[0m\u001b[1;33m\u001b[0m\u001b[0m\n\u001b[1;32m---> 32\u001b[1;33m         \u001b[0mreward\u001b[0m \u001b[1;33m=\u001b[0m \u001b[0mself\u001b[0m\u001b[1;33m.\u001b[0m\u001b[0m_simulate\u001b[0m\u001b[1;33m(\u001b[0m\u001b[0munexplored_node\u001b[0m\u001b[1;33m)\u001b[0m\u001b[1;33m\u001b[0m\u001b[1;33m\u001b[0m\u001b[0m\n\u001b[0m\u001b[0;32m     33\u001b[0m         \u001b[0mself\u001b[0m\u001b[1;33m.\u001b[0m\u001b[0m_backpropagate\u001b[0m\u001b[1;33m(\u001b[0m\u001b[0mpath\u001b[0m\u001b[1;33m,\u001b[0m \u001b[0mreward\u001b[0m\u001b[1;33m)\u001b[0m\u001b[1;33m\u001b[0m\u001b[1;33m\u001b[0m\u001b[0m\n\u001b[0;32m     34\u001b[0m \u001b[1;33m\u001b[0m\u001b[0m\n",
      "\u001b[1;32m~\\AppData\\Local\\Temp/ipykernel_8344/3314008437.py\u001b[0m in \u001b[0;36m_simulate\u001b[1;34m(self, node)\u001b[0m\n\u001b[0;32m     57\u001b[0m         \u001b[0mreward\u001b[0m \u001b[1;33m=\u001b[0m \u001b[1;36m0\u001b[0m \u001b[1;31m# we are always simulating from a reset state\u001b[0m\u001b[1;33m\u001b[0m\u001b[1;33m\u001b[0m\u001b[0m\n\u001b[0;32m     58\u001b[0m         \u001b[1;32mwhile\u001b[0m \u001b[1;32mTrue\u001b[0m\u001b[1;33m:\u001b[0m\u001b[1;33m\u001b[0m\u001b[1;33m\u001b[0m\u001b[0m\n\u001b[1;32m---> 59\u001b[1;33m             \u001b[0mreward\u001b[0m \u001b[1;33m+=\u001b[0m \u001b[0mnode\u001b[0m\u001b[1;33m.\u001b[0m\u001b[0mget_reward\u001b[0m\u001b[1;33m(\u001b[0m\u001b[1;33m)\u001b[0m\u001b[1;33m\u001b[0m\u001b[1;33m\u001b[0m\u001b[0m\n\u001b[0m\u001b[0;32m     60\u001b[0m             \u001b[1;32mif\u001b[0m \u001b[0mnode\u001b[0m\u001b[1;33m.\u001b[0m\u001b[0mis_terminal\u001b[0m\u001b[1;33m(\u001b[0m\u001b[1;33m)\u001b[0m\u001b[1;33m:\u001b[0m\u001b[1;33m\u001b[0m\u001b[1;33m\u001b[0m\u001b[0m\n\u001b[0;32m     61\u001b[0m                 \u001b[1;32mreturn\u001b[0m \u001b[0mreward\u001b[0m\u001b[1;33m\u001b[0m\u001b[1;33m\u001b[0m\u001b[0m\n",
      "\u001b[1;32m~\\AppData\\Local\\Temp/ipykernel_8344/2023329079.py\u001b[0m in \u001b[0;36mget_reward\u001b[1;34m(board)\u001b[0m\n\u001b[0;32m     40\u001b[0m         \u001b[1;34m'''It is through backpropagation of the tree that we get a reward of one. See implementation of MCTS'''\u001b[0m\u001b[1;33m\u001b[0m\u001b[1;33m\u001b[0m\u001b[0m\n\u001b[0;32m     41\u001b[0m         \u001b[1;32mif\u001b[0m \u001b[1;32mnot\u001b[0m \u001b[0mboard\u001b[0m\u001b[1;33m.\u001b[0m\u001b[0mterminal\u001b[0m\u001b[1;33m:\u001b[0m\u001b[1;33m\u001b[0m\u001b[1;33m\u001b[0m\u001b[0m\n\u001b[1;32m---> 42\u001b[1;33m             \u001b[1;32mraise\u001b[0m \u001b[0mRuntimeError\u001b[0m\u001b[1;33m(\u001b[0m\u001b[1;34m\"Calling get_reward on a non-terminal board state.\"\u001b[0m\u001b[1;33m)\u001b[0m\u001b[1;33m\u001b[0m\u001b[1;33m\u001b[0m\u001b[0m\n\u001b[0m\u001b[0;32m     43\u001b[0m         \u001b[1;32mif\u001b[0m \u001b[0mboard\u001b[0m\u001b[1;33m.\u001b[0m\u001b[0mwinner\u001b[0m \u001b[1;32mis\u001b[0m \u001b[0mboard\u001b[0m\u001b[1;33m.\u001b[0m\u001b[0mplayer_to_move\u001b[0m\u001b[1;33m:\u001b[0m\u001b[1;33m\u001b[0m\u001b[1;33m\u001b[0m\u001b[0m\n\u001b[0;32m     44\u001b[0m             \u001b[1;32mraise\u001b[0m \u001b[0mRuntimeError\u001b[0m\u001b[1;33m(\u001b[0m\u001b[1;34m\"That's weird, how did you win on your opponent's turn?🤔\"\u001b[0m\u001b[1;33m)\u001b[0m\u001b[1;33m\u001b[0m\u001b[1;33m\u001b[0m\u001b[0m\n",
      "\u001b[1;31mRuntimeError\u001b[0m: Calling get_reward on a non-terminal board state."
     ]
    }
   ],
   "source": [
    "Aw, Bw, t = play_game()"
   ]
  },
  {
   "cell_type": "code",
   "execution_count": 19,
   "metadata": {},
   "outputs": [
    {
     "ename": "RuntimeError",
     "evalue": "Calling get_reward on a non-terminal board state.",
     "output_type": "error",
     "traceback": [
      "\u001b[1;31m---------------------------------------------------------------------------\u001b[0m",
      "\u001b[1;31mRuntimeError\u001b[0m                              Traceback (most recent call last)",
      "\u001b[1;32m~\\AppData\\Local\\Temp/ipykernel_8344/3805994465.py\u001b[0m in \u001b[0;36m<module>\u001b[1;34m\u001b[0m\n\u001b[0;32m      7\u001b[0m \u001b[1;32mfor\u001b[0m \u001b[0mB_rollout\u001b[0m \u001b[1;32min\u001b[0m \u001b[0mB_rollouts\u001b[0m\u001b[1;33m:\u001b[0m\u001b[1;33m\u001b[0m\u001b[1;33m\u001b[0m\u001b[0m\n\u001b[0;32m      8\u001b[0m     \u001b[1;32mfor\u001b[0m \u001b[0mtrial\u001b[0m \u001b[1;32min\u001b[0m \u001b[0mrange\u001b[0m\u001b[1;33m(\u001b[0m\u001b[0mnum_trials\u001b[0m\u001b[1;33m)\u001b[0m\u001b[1;33m:\u001b[0m\u001b[1;33m\u001b[0m\u001b[1;33m\u001b[0m\u001b[0m\n\u001b[1;32m----> 9\u001b[1;33m         \u001b[0mAw\u001b[0m\u001b[1;33m,\u001b[0m \u001b[0mBw\u001b[0m\u001b[1;33m,\u001b[0m \u001b[0mt\u001b[0m \u001b[1;33m=\u001b[0m \u001b[0mplay_game\u001b[0m\u001b[1;33m(\u001b[0m\u001b[0magent_A_rollouts\u001b[0m\u001b[1;33m=\u001b[0m\u001b[0mA_rollouts\u001b[0m\u001b[1;33m,\u001b[0m \u001b[0magent_B_rollouts\u001b[0m\u001b[1;33m=\u001b[0m\u001b[0mB_rollout\u001b[0m\u001b[1;33m,\u001b[0m \u001b[0mprint_games\u001b[0m\u001b[1;33m=\u001b[0m\u001b[1;32mFalse\u001b[0m\u001b[1;33m,\u001b[0m \u001b[0mnumber_of_games\u001b[0m\u001b[1;33m=\u001b[0m\u001b[1;36m50\u001b[0m\u001b[1;33m)\u001b[0m\u001b[1;33m\u001b[0m\u001b[1;33m\u001b[0m\u001b[0m\n\u001b[0m\u001b[0;32m     10\u001b[0m         \u001b[0mA_wins\u001b[0m\u001b[1;33m[\u001b[0m\u001b[0mB_rollout\u001b[0m\u001b[1;33m]\u001b[0m\u001b[1;33m.\u001b[0m\u001b[0mappend\u001b[0m\u001b[1;33m(\u001b[0m\u001b[0mAw\u001b[0m\u001b[1;33m)\u001b[0m\u001b[1;33m\u001b[0m\u001b[1;33m\u001b[0m\u001b[0m\n\u001b[0;32m     11\u001b[0m         \u001b[0mB_wins\u001b[0m\u001b[1;33m[\u001b[0m\u001b[0mB_rollout\u001b[0m\u001b[1;33m]\u001b[0m\u001b[1;33m.\u001b[0m\u001b[0mappend\u001b[0m\u001b[1;33m(\u001b[0m\u001b[0mBw\u001b[0m\u001b[1;33m)\u001b[0m\u001b[1;33m\u001b[0m\u001b[1;33m\u001b[0m\u001b[0m\n",
      "\u001b[1;32m~\\AppData\\Local\\Temp/ipykernel_8344/4254060194.py\u001b[0m in \u001b[0;36mplay_game\u001b[1;34m(number_of_games, agent_A_rollouts, agent_B_rollouts, human_input, slow_time, print_games, print_intermediate_info)\u001b[0m\n\u001b[0;32m     17\u001b[0m             \u001b[1;32melse\u001b[0m\u001b[1;33m:\u001b[0m\u001b[1;33m\u001b[0m\u001b[1;33m\u001b[0m\u001b[0m\n\u001b[0;32m     18\u001b[0m                 \u001b[1;32mfor\u001b[0m \u001b[0m_\u001b[0m \u001b[1;32min\u001b[0m \u001b[0mrange\u001b[0m\u001b[1;33m(\u001b[0m\u001b[0magent_A_rollouts\u001b[0m\u001b[1;33m)\u001b[0m\u001b[1;33m:\u001b[0m\u001b[1;33m\u001b[0m\u001b[1;33m\u001b[0m\u001b[0m\n\u001b[1;32m---> 19\u001b[1;33m                     \u001b[0mtreeA\u001b[0m\u001b[1;33m.\u001b[0m\u001b[0mdo_rollout\u001b[0m\u001b[1;33m(\u001b[0m\u001b[0mboard\u001b[0m\u001b[1;33m)\u001b[0m\u001b[1;33m\u001b[0m\u001b[1;33m\u001b[0m\u001b[0m\n\u001b[0m\u001b[0;32m     20\u001b[0m                 \u001b[0mboard\u001b[0m \u001b[1;33m=\u001b[0m \u001b[0mtreeA\u001b[0m\u001b[1;33m.\u001b[0m\u001b[0mchoose\u001b[0m\u001b[1;33m(\u001b[0m\u001b[0mboard\u001b[0m\u001b[1;33m)\u001b[0m\u001b[1;33m\u001b[0m\u001b[1;33m\u001b[0m\u001b[0m\n\u001b[0;32m     21\u001b[0m             \u001b[1;32mif\u001b[0m \u001b[0mprint_games\u001b[0m\u001b[1;33m:\u001b[0m \u001b[0mprint\u001b[0m\u001b[1;33m(\u001b[0m\u001b[0mboard\u001b[0m\u001b[1;33m.\u001b[0m\u001b[0mto_pretty_string\u001b[0m\u001b[1;33m(\u001b[0m\u001b[1;33m)\u001b[0m\u001b[1;33m)\u001b[0m\u001b[1;33m\u001b[0m\u001b[1;33m\u001b[0m\u001b[0m\n",
      "\u001b[1;32m~\\AppData\\Local\\Temp/ipykernel_8344/3314008437.py\u001b[0m in \u001b[0;36mdo_rollout\u001b[1;34m(self, node)\u001b[0m\n\u001b[0;32m     30\u001b[0m         \u001b[0munexplored_node\u001b[0m \u001b[1;33m=\u001b[0m \u001b[0mpath\u001b[0m\u001b[1;33m[\u001b[0m\u001b[1;33m-\u001b[0m\u001b[1;36m1\u001b[0m\u001b[1;33m]\u001b[0m\u001b[1;33m\u001b[0m\u001b[1;33m\u001b[0m\u001b[0m\n\u001b[0;32m     31\u001b[0m         \u001b[0mself\u001b[0m\u001b[1;33m.\u001b[0m\u001b[0m_expand\u001b[0m\u001b[1;33m(\u001b[0m\u001b[0munexplored_node\u001b[0m\u001b[1;33m)\u001b[0m\u001b[1;33m\u001b[0m\u001b[1;33m\u001b[0m\u001b[0m\n\u001b[1;32m---> 32\u001b[1;33m         \u001b[0mreward\u001b[0m \u001b[1;33m=\u001b[0m \u001b[0mself\u001b[0m\u001b[1;33m.\u001b[0m\u001b[0m_simulate\u001b[0m\u001b[1;33m(\u001b[0m\u001b[0munexplored_node\u001b[0m\u001b[1;33m)\u001b[0m\u001b[1;33m\u001b[0m\u001b[1;33m\u001b[0m\u001b[0m\n\u001b[0m\u001b[0;32m     33\u001b[0m         \u001b[0mself\u001b[0m\u001b[1;33m.\u001b[0m\u001b[0m_backpropagate\u001b[0m\u001b[1;33m(\u001b[0m\u001b[0mpath\u001b[0m\u001b[1;33m,\u001b[0m \u001b[0mreward\u001b[0m\u001b[1;33m)\u001b[0m\u001b[1;33m\u001b[0m\u001b[1;33m\u001b[0m\u001b[0m\n\u001b[0;32m     34\u001b[0m \u001b[1;33m\u001b[0m\u001b[0m\n",
      "\u001b[1;32m~\\AppData\\Local\\Temp/ipykernel_8344/3314008437.py\u001b[0m in \u001b[0;36m_simulate\u001b[1;34m(self, node)\u001b[0m\n\u001b[0;32m     57\u001b[0m         \u001b[0mreward\u001b[0m \u001b[1;33m=\u001b[0m \u001b[1;36m0\u001b[0m \u001b[1;31m# we are always simulating from a reset state\u001b[0m\u001b[1;33m\u001b[0m\u001b[1;33m\u001b[0m\u001b[0m\n\u001b[0;32m     58\u001b[0m         \u001b[1;32mwhile\u001b[0m \u001b[1;32mTrue\u001b[0m\u001b[1;33m:\u001b[0m\u001b[1;33m\u001b[0m\u001b[1;33m\u001b[0m\u001b[0m\n\u001b[1;32m---> 59\u001b[1;33m             \u001b[0mreward\u001b[0m \u001b[1;33m+=\u001b[0m \u001b[0mnode\u001b[0m\u001b[1;33m.\u001b[0m\u001b[0mget_reward\u001b[0m\u001b[1;33m(\u001b[0m\u001b[1;33m)\u001b[0m\u001b[1;33m\u001b[0m\u001b[1;33m\u001b[0m\u001b[0m\n\u001b[0m\u001b[0;32m     60\u001b[0m             \u001b[1;32mif\u001b[0m \u001b[0mnode\u001b[0m\u001b[1;33m.\u001b[0m\u001b[0mis_terminal\u001b[0m\u001b[1;33m(\u001b[0m\u001b[1;33m)\u001b[0m\u001b[1;33m:\u001b[0m\u001b[1;33m\u001b[0m\u001b[1;33m\u001b[0m\u001b[0m\n\u001b[0;32m     61\u001b[0m                 \u001b[1;32mreturn\u001b[0m \u001b[0mreward\u001b[0m\u001b[1;33m\u001b[0m\u001b[1;33m\u001b[0m\u001b[0m\n",
      "\u001b[1;32m~\\AppData\\Local\\Temp/ipykernel_8344/2023329079.py\u001b[0m in \u001b[0;36mget_reward\u001b[1;34m(board)\u001b[0m\n\u001b[0;32m     40\u001b[0m         \u001b[1;34m'''It is through backpropagation of the tree that we get a reward of one. See implementation of MCTS'''\u001b[0m\u001b[1;33m\u001b[0m\u001b[1;33m\u001b[0m\u001b[0m\n\u001b[0;32m     41\u001b[0m         \u001b[1;32mif\u001b[0m \u001b[1;32mnot\u001b[0m \u001b[0mboard\u001b[0m\u001b[1;33m.\u001b[0m\u001b[0mterminal\u001b[0m\u001b[1;33m:\u001b[0m\u001b[1;33m\u001b[0m\u001b[1;33m\u001b[0m\u001b[0m\n\u001b[1;32m---> 42\u001b[1;33m             \u001b[1;32mraise\u001b[0m \u001b[0mRuntimeError\u001b[0m\u001b[1;33m(\u001b[0m\u001b[1;34m\"Calling get_reward on a non-terminal board state.\"\u001b[0m\u001b[1;33m)\u001b[0m\u001b[1;33m\u001b[0m\u001b[1;33m\u001b[0m\u001b[0m\n\u001b[0m\u001b[0;32m     43\u001b[0m         \u001b[1;32mif\u001b[0m \u001b[0mboard\u001b[0m\u001b[1;33m.\u001b[0m\u001b[0mwinner\u001b[0m \u001b[1;32mis\u001b[0m \u001b[0mboard\u001b[0m\u001b[1;33m.\u001b[0m\u001b[0mplayer_to_move\u001b[0m\u001b[1;33m:\u001b[0m\u001b[1;33m\u001b[0m\u001b[1;33m\u001b[0m\u001b[0m\n\u001b[0;32m     44\u001b[0m             \u001b[1;32mraise\u001b[0m \u001b[0mRuntimeError\u001b[0m\u001b[1;33m(\u001b[0m\u001b[1;34m\"That's weird, how did you win on your opponent's turn?🤔\"\u001b[0m\u001b[1;33m)\u001b[0m\u001b[1;33m\u001b[0m\u001b[1;33m\u001b[0m\u001b[0m\n",
      "\u001b[1;31mRuntimeError\u001b[0m: Calling get_reward on a non-terminal board state."
     ]
    }
   ],
   "source": [
    "A_rollouts = 5\n",
    "B_rollouts = range(5, 25)\n",
    "num_trials = 5\n",
    "A_wins = defaultdict(list)\n",
    "B_wins = defaultdict(list)\n",
    "ties = defaultdict(list)\n",
    "for B_rollout in B_rollouts:\n",
    "    for trial in range(num_trials):\n",
    "        Aw, Bw, t = play_game(agent_A_rollouts=A_rollouts, agent_B_rollouts=B_rollout, print_games=False, number_of_games=50)\n",
    "        A_wins[B_rollout].append(Aw)\n",
    "        B_wins[B_rollout].append(Bw)\n",
    "        ties[B_rollout].append(t)"
   ]
  },
  {
   "cell_type": "code",
   "execution_count": 20,
   "metadata": {},
   "outputs": [],
   "source": [
    "import matplotlib.pyplot as plt\n",
    "import numpy as np\n"
   ]
  },
  {
   "cell_type": "code",
   "execution_count": 21,
   "metadata": {},
   "outputs": [
    {
     "name": "stderr",
     "output_type": "stream",
     "text": [
      "c:\\Python310\\lib\\site-packages\\numpy\\core\\fromnumeric.py:3715: RuntimeWarning: Degrees of freedom <= 0 for slice\n",
      "  return _methods._var(a, axis=axis, dtype=dtype, out=out, ddof=ddof,\n",
      "c:\\Python310\\lib\\site-packages\\numpy\\core\\_methods.py:223: RuntimeWarning: invalid value encountered in divide\n",
      "  arrmean = um.true_divide(arrmean, div, out=arrmean, casting='unsafe',\n",
      "c:\\Python310\\lib\\site-packages\\numpy\\core\\_methods.py:257: RuntimeWarning: invalid value encountered in double_scalars\n",
      "  ret = ret.dtype.type(ret / rcount)\n"
     ]
    },
    {
     "ename": "StopIteration",
     "evalue": "",
     "output_type": "error",
     "traceback": [
      "\u001b[1;31m---------------------------------------------------------------------------\u001b[0m",
      "\u001b[1;31mStopIteration\u001b[0m                             Traceback (most recent call last)",
      "\u001b[1;32m~\\AppData\\Local\\Temp/ipykernel_8344/2667287868.py\u001b[0m in \u001b[0;36m<module>\u001b[1;34m\u001b[0m\n\u001b[0;32m      6\u001b[0m \u001b[0mtie_var\u001b[0m \u001b[1;33m=\u001b[0m \u001b[1;33m[\u001b[0m\u001b[0mnp\u001b[0m\u001b[1;33m.\u001b[0m\u001b[0mvar\u001b[0m\u001b[1;33m(\u001b[0m\u001b[0mties\u001b[0m\u001b[1;33m[\u001b[0m\u001b[0mB_rollout\u001b[0m\u001b[1;33m]\u001b[0m\u001b[1;33m)\u001b[0m\u001b[1;33m**\u001b[0m\u001b[1;36m0.5\u001b[0m \u001b[1;32mfor\u001b[0m \u001b[0mB_rollout\u001b[0m \u001b[1;32min\u001b[0m \u001b[0mB_rollouts\u001b[0m\u001b[1;33m]\u001b[0m\u001b[1;33m\u001b[0m\u001b[1;33m\u001b[0m\u001b[0m\n\u001b[0;32m      7\u001b[0m \u001b[1;33m\u001b[0m\u001b[0m\n\u001b[1;32m----> 8\u001b[1;33m \u001b[0mplt\u001b[0m\u001b[1;33m.\u001b[0m\u001b[0merrorbar\u001b[0m\u001b[1;33m(\u001b[0m\u001b[0mB_rollouts\u001b[0m\u001b[1;33m,\u001b[0m \u001b[0mA_win_ave\u001b[0m\u001b[1;33m,\u001b[0m \u001b[0myerr\u001b[0m\u001b[1;33m=\u001b[0m\u001b[0mA_win_var\u001b[0m\u001b[1;33m,\u001b[0m \u001b[0mlabel\u001b[0m\u001b[1;33m=\u001b[0m\u001b[1;34m\"A wins\"\u001b[0m\u001b[1;33m,\u001b[0m \u001b[0mcapsize\u001b[0m\u001b[1;33m=\u001b[0m\u001b[1;36m3\u001b[0m\u001b[1;33m)\u001b[0m\u001b[1;33m\u001b[0m\u001b[1;33m\u001b[0m\u001b[0m\n\u001b[0m\u001b[0;32m      9\u001b[0m \u001b[0mplt\u001b[0m\u001b[1;33m.\u001b[0m\u001b[0merrorbar\u001b[0m\u001b[1;33m(\u001b[0m\u001b[0mB_rollouts\u001b[0m\u001b[1;33m,\u001b[0m \u001b[0mB_win_ave\u001b[0m\u001b[1;33m,\u001b[0m \u001b[0myerr\u001b[0m\u001b[1;33m=\u001b[0m\u001b[0mB_win_var\u001b[0m\u001b[1;33m,\u001b[0m \u001b[0mlabel\u001b[0m\u001b[1;33m=\u001b[0m\u001b[1;34m\"B wins\"\u001b[0m\u001b[1;33m,\u001b[0m \u001b[0mcapsize\u001b[0m\u001b[1;33m=\u001b[0m\u001b[1;36m3\u001b[0m\u001b[1;33m)\u001b[0m\u001b[1;33m\u001b[0m\u001b[1;33m\u001b[0m\u001b[0m\n\u001b[0;32m     10\u001b[0m \u001b[0mplt\u001b[0m\u001b[1;33m.\u001b[0m\u001b[0merrorbar\u001b[0m\u001b[1;33m(\u001b[0m\u001b[0mB_rollouts\u001b[0m\u001b[1;33m,\u001b[0m \u001b[0mtie_ave\u001b[0m\u001b[1;33m,\u001b[0m \u001b[0myerr\u001b[0m\u001b[1;33m=\u001b[0m\u001b[0mtie_var\u001b[0m\u001b[1;33m,\u001b[0m \u001b[0mlabel\u001b[0m\u001b[1;33m=\u001b[0m\u001b[1;34m\"ties\"\u001b[0m\u001b[1;33m,\u001b[0m \u001b[0mcapsize\u001b[0m\u001b[1;33m=\u001b[0m\u001b[1;36m3\u001b[0m\u001b[1;33m)\u001b[0m\u001b[1;33m\u001b[0m\u001b[1;33m\u001b[0m\u001b[0m\n",
      "\u001b[1;32mc:\\Python310\\lib\\site-packages\\matplotlib\\pyplot.py\u001b[0m in \u001b[0;36merrorbar\u001b[1;34m(x, y, yerr, xerr, fmt, ecolor, elinewidth, capsize, barsabove, lolims, uplims, xlolims, xuplims, errorevery, capthick, data, **kwargs)\u001b[0m\n\u001b[0;32m   2498\u001b[0m         \u001b[0muplims\u001b[0m\u001b[1;33m=\u001b[0m\u001b[1;32mFalse\u001b[0m\u001b[1;33m,\u001b[0m \u001b[0mxlolims\u001b[0m\u001b[1;33m=\u001b[0m\u001b[1;32mFalse\u001b[0m\u001b[1;33m,\u001b[0m \u001b[0mxuplims\u001b[0m\u001b[1;33m=\u001b[0m\u001b[1;32mFalse\u001b[0m\u001b[1;33m,\u001b[0m \u001b[0merrorevery\u001b[0m\u001b[1;33m=\u001b[0m\u001b[1;36m1\u001b[0m\u001b[1;33m,\u001b[0m\u001b[1;33m\u001b[0m\u001b[1;33m\u001b[0m\u001b[0m\n\u001b[0;32m   2499\u001b[0m         capthick=None, *, data=None, **kwargs):\n\u001b[1;32m-> 2500\u001b[1;33m     return gca().errorbar(\n\u001b[0m\u001b[0;32m   2501\u001b[0m         \u001b[0mx\u001b[0m\u001b[1;33m,\u001b[0m \u001b[0my\u001b[0m\u001b[1;33m,\u001b[0m \u001b[0myerr\u001b[0m\u001b[1;33m=\u001b[0m\u001b[0myerr\u001b[0m\u001b[1;33m,\u001b[0m \u001b[0mxerr\u001b[0m\u001b[1;33m=\u001b[0m\u001b[0mxerr\u001b[0m\u001b[1;33m,\u001b[0m \u001b[0mfmt\u001b[0m\u001b[1;33m=\u001b[0m\u001b[0mfmt\u001b[0m\u001b[1;33m,\u001b[0m \u001b[0mecolor\u001b[0m\u001b[1;33m=\u001b[0m\u001b[0mecolor\u001b[0m\u001b[1;33m,\u001b[0m\u001b[1;33m\u001b[0m\u001b[1;33m\u001b[0m\u001b[0m\n\u001b[0;32m   2502\u001b[0m         \u001b[0melinewidth\u001b[0m\u001b[1;33m=\u001b[0m\u001b[0melinewidth\u001b[0m\u001b[1;33m,\u001b[0m \u001b[0mcapsize\u001b[0m\u001b[1;33m=\u001b[0m\u001b[0mcapsize\u001b[0m\u001b[1;33m,\u001b[0m \u001b[0mbarsabove\u001b[0m\u001b[1;33m=\u001b[0m\u001b[0mbarsabove\u001b[0m\u001b[1;33m,\u001b[0m\u001b[1;33m\u001b[0m\u001b[1;33m\u001b[0m\u001b[0m\n",
      "\u001b[1;32mc:\\Python310\\lib\\site-packages\\matplotlib\\__init__.py\u001b[0m in \u001b[0;36minner\u001b[1;34m(ax, data, *args, **kwargs)\u001b[0m\n\u001b[0;32m   1431\u001b[0m     \u001b[1;32mdef\u001b[0m \u001b[0minner\u001b[0m\u001b[1;33m(\u001b[0m\u001b[0max\u001b[0m\u001b[1;33m,\u001b[0m \u001b[1;33m*\u001b[0m\u001b[0margs\u001b[0m\u001b[1;33m,\u001b[0m \u001b[0mdata\u001b[0m\u001b[1;33m=\u001b[0m\u001b[1;32mNone\u001b[0m\u001b[1;33m,\u001b[0m \u001b[1;33m**\u001b[0m\u001b[0mkwargs\u001b[0m\u001b[1;33m)\u001b[0m\u001b[1;33m:\u001b[0m\u001b[1;33m\u001b[0m\u001b[1;33m\u001b[0m\u001b[0m\n\u001b[0;32m   1432\u001b[0m         \u001b[1;32mif\u001b[0m \u001b[0mdata\u001b[0m \u001b[1;32mis\u001b[0m \u001b[1;32mNone\u001b[0m\u001b[1;33m:\u001b[0m\u001b[1;33m\u001b[0m\u001b[1;33m\u001b[0m\u001b[0m\n\u001b[1;32m-> 1433\u001b[1;33m             \u001b[1;32mreturn\u001b[0m \u001b[0mfunc\u001b[0m\u001b[1;33m(\u001b[0m\u001b[0max\u001b[0m\u001b[1;33m,\u001b[0m \u001b[1;33m*\u001b[0m\u001b[0mmap\u001b[0m\u001b[1;33m(\u001b[0m\u001b[0msanitize_sequence\u001b[0m\u001b[1;33m,\u001b[0m \u001b[0margs\u001b[0m\u001b[1;33m)\u001b[0m\u001b[1;33m,\u001b[0m \u001b[1;33m**\u001b[0m\u001b[0mkwargs\u001b[0m\u001b[1;33m)\u001b[0m\u001b[1;33m\u001b[0m\u001b[1;33m\u001b[0m\u001b[0m\n\u001b[0m\u001b[0;32m   1434\u001b[0m \u001b[1;33m\u001b[0m\u001b[0m\n\u001b[0;32m   1435\u001b[0m         \u001b[0mbound\u001b[0m \u001b[1;33m=\u001b[0m \u001b[0mnew_sig\u001b[0m\u001b[1;33m.\u001b[0m\u001b[0mbind\u001b[0m\u001b[1;33m(\u001b[0m\u001b[0max\u001b[0m\u001b[1;33m,\u001b[0m \u001b[1;33m*\u001b[0m\u001b[0margs\u001b[0m\u001b[1;33m,\u001b[0m \u001b[1;33m**\u001b[0m\u001b[0mkwargs\u001b[0m\u001b[1;33m)\u001b[0m\u001b[1;33m\u001b[0m\u001b[1;33m\u001b[0m\u001b[0m\n",
      "\u001b[1;32mc:\\Python310\\lib\\site-packages\\matplotlib\\axes\\_axes.py\u001b[0m in \u001b[0;36merrorbar\u001b[1;34m(self, x, y, yerr, xerr, fmt, ecolor, elinewidth, capsize, barsabove, lolims, uplims, xlolims, xuplims, errorevery, capthick, **kwargs)\u001b[0m\n\u001b[0;32m   3492\u001b[0m             \u001b[0mxerr\u001b[0m \u001b[1;33m=\u001b[0m \u001b[0m_upcast_err\u001b[0m\u001b[1;33m(\u001b[0m\u001b[0mxerr\u001b[0m\u001b[1;33m)\u001b[0m\u001b[1;33m\u001b[0m\u001b[1;33m\u001b[0m\u001b[0m\n\u001b[0;32m   3493\u001b[0m         \u001b[1;32mif\u001b[0m \u001b[0myerr\u001b[0m \u001b[1;32mis\u001b[0m \u001b[1;32mnot\u001b[0m \u001b[1;32mNone\u001b[0m \u001b[1;32mand\u001b[0m \u001b[1;32mnot\u001b[0m \u001b[0misinstance\u001b[0m\u001b[1;33m(\u001b[0m\u001b[0myerr\u001b[0m\u001b[1;33m,\u001b[0m \u001b[0mnp\u001b[0m\u001b[1;33m.\u001b[0m\u001b[0mndarray\u001b[0m\u001b[1;33m)\u001b[0m\u001b[1;33m:\u001b[0m\u001b[1;33m\u001b[0m\u001b[1;33m\u001b[0m\u001b[0m\n\u001b[1;32m-> 3494\u001b[1;33m             \u001b[0myerr\u001b[0m \u001b[1;33m=\u001b[0m \u001b[0m_upcast_err\u001b[0m\u001b[1;33m(\u001b[0m\u001b[0myerr\u001b[0m\u001b[1;33m)\u001b[0m\u001b[1;33m\u001b[0m\u001b[1;33m\u001b[0m\u001b[0m\n\u001b[0m\u001b[0;32m   3495\u001b[0m         \u001b[0mx\u001b[0m\u001b[1;33m,\u001b[0m \u001b[0my\u001b[0m \u001b[1;33m=\u001b[0m \u001b[0mnp\u001b[0m\u001b[1;33m.\u001b[0m\u001b[0matleast_1d\u001b[0m\u001b[1;33m(\u001b[0m\u001b[0mx\u001b[0m\u001b[1;33m,\u001b[0m \u001b[0my\u001b[0m\u001b[1;33m)\u001b[0m  \u001b[1;31m# Make sure all the args are iterable.\u001b[0m\u001b[1;33m\u001b[0m\u001b[1;33m\u001b[0m\u001b[0m\n\u001b[0;32m   3496\u001b[0m         \u001b[1;32mif\u001b[0m \u001b[0mlen\u001b[0m\u001b[1;33m(\u001b[0m\u001b[0mx\u001b[0m\u001b[1;33m)\u001b[0m \u001b[1;33m!=\u001b[0m \u001b[0mlen\u001b[0m\u001b[1;33m(\u001b[0m\u001b[0my\u001b[0m\u001b[1;33m)\u001b[0m\u001b[1;33m:\u001b[0m\u001b[1;33m\u001b[0m\u001b[1;33m\u001b[0m\u001b[0m\n",
      "\u001b[1;32mc:\\Python310\\lib\\site-packages\\matplotlib\\axes\\_axes.py\u001b[0m in \u001b[0;36m_upcast_err\u001b[1;34m(err)\u001b[0m\n\u001b[0;32m   3474\u001b[0m                     \u001b[1;31m# location first on pandas objects so err[0] almost always\u001b[0m\u001b[1;33m\u001b[0m\u001b[1;33m\u001b[0m\u001b[0m\n\u001b[0;32m   3475\u001b[0m                     \u001b[1;31m# fails.\u001b[0m\u001b[1;33m\u001b[0m\u001b[1;33m\u001b[0m\u001b[0m\n\u001b[1;32m-> 3476\u001b[1;33m                     \u001b[0misinstance\u001b[0m\u001b[1;33m(\u001b[0m\u001b[0mcbook\u001b[0m\u001b[1;33m.\u001b[0m\u001b[0m_safe_first_finite\u001b[0m\u001b[1;33m(\u001b[0m\u001b[0merr\u001b[0m\u001b[1;33m)\u001b[0m\u001b[1;33m,\u001b[0m \u001b[0mnp\u001b[0m\u001b[1;33m.\u001b[0m\u001b[0mndarray\u001b[0m\u001b[1;33m)\u001b[0m\u001b[1;33m\u001b[0m\u001b[1;33m\u001b[0m\u001b[0m\n\u001b[0m\u001b[0;32m   3477\u001b[0m             ):\n\u001b[0;32m   3478\u001b[0m                 \u001b[1;31m# Get the type of the first element\u001b[0m\u001b[1;33m\u001b[0m\u001b[1;33m\u001b[0m\u001b[0m\n",
      "\u001b[1;32mc:\\Python310\\lib\\site-packages\\matplotlib\\cbook\\__init__.py\u001b[0m in \u001b[0;36m_safe_first_finite\u001b[1;34m(obj, skip_nonfinite)\u001b[0m\n\u001b[0;32m   1747\u001b[0m                            \"support generators as input\")\n\u001b[0;32m   1748\u001b[0m     \u001b[1;32melse\u001b[0m\u001b[1;33m:\u001b[0m\u001b[1;33m\u001b[0m\u001b[1;33m\u001b[0m\u001b[0m\n\u001b[1;32m-> 1749\u001b[1;33m         \u001b[1;32mreturn\u001b[0m \u001b[0mnext\u001b[0m\u001b[1;33m(\u001b[0m\u001b[0mval\u001b[0m \u001b[1;32mfor\u001b[0m \u001b[0mval\u001b[0m \u001b[1;32min\u001b[0m \u001b[0mobj\u001b[0m \u001b[1;32mif\u001b[0m \u001b[0msafe_isfinite\u001b[0m\u001b[1;33m(\u001b[0m\u001b[0mval\u001b[0m\u001b[1;33m)\u001b[0m\u001b[1;33m)\u001b[0m\u001b[1;33m\u001b[0m\u001b[1;33m\u001b[0m\u001b[0m\n\u001b[0m\u001b[0;32m   1750\u001b[0m \u001b[1;33m\u001b[0m\u001b[0m\n\u001b[0;32m   1751\u001b[0m \u001b[1;33m\u001b[0m\u001b[0m\n",
      "\u001b[1;31mStopIteration\u001b[0m: "
     ]
    },
    {
     "data": {
      "image/png": "[encoded data removed]",
      "text/plain": [
       "<Figure size 432x288 with 1 Axes>"
      ]
     },
     "metadata": {
      "needs_background": "light"
     },
     "output_type": "display_data"
    }
   ],
   "source": [
    "A_win_ave = [sum(A_wins[B_rollout])/num_trials for B_rollout in B_rollouts]\n",
    "B_win_ave = [sum(B_wins[B_rollout])/num_trials for B_rollout in B_rollouts]\n",
    "tie_ave = [sum(ties[B_rollout])/num_trials for B_rollout in B_rollouts]\n",
    "A_win_var = [np.var(A_wins[B_rollout])**0.5 for B_rollout in B_rollouts]\n",
    "B_win_var = [np.var(B_wins[B_rollout])**0.5 for B_rollout in B_rollouts]\n",
    "tie_var = [np.var(ties[B_rollout])**0.5 for B_rollout in B_rollouts]\n",
    "\n",
    "plt.errorbar(B_rollouts, A_win_ave, yerr=A_win_var, label=\"A wins\", capsize=3)\n",
    "plt.errorbar(B_rollouts, B_win_ave, yerr=B_win_var, label=\"B wins\", capsize=3)\n",
    "plt.errorbar(B_rollouts, tie_ave, yerr=tie_var, label=\"ties\", capsize=3)\n",
    "plt.legend()\n",
    "plt.show()"
   ]
  },
  {
   "cell_type": "code",
   "execution_count": 25,
   "metadata": {},
   "outputs": [
    {
     "name": "stderr",
     "output_type": "stream",
     "text": [
      "c:\\Python310\\lib\\site-packages\\tqdm\\auto.py:22: TqdmWarning: IProgress not found. Please update jupyter and ipywidgets. See https://ipywidgets.readthedocs.io/en/stable/user_install.html\n",
      "  from .autonotebook import tqdm as notebook_tqdm\n"
     ]
    }
   ],
   "source": [
    "import gymnasium as gym\n",
    "from copy import deepcopy"
   ]
  },
  {
   "cell_type": "code",
   "execution_count": 26,
   "metadata": {},
   "outputs": [],
   "source": [
    "env = gym.make(\"CartPole-v1\", render_mode=\"human\")\n",
    "env.reset()\n",
    "env.render()"
   ]
  },
  {
   "attachments": {},
   "cell_type": "markdown",
   "metadata": {},
   "source": [
    "Let's play with cartpole first.\n",
    "display the cartpole html page here\n",
    "<iframe\n",
    "  src=\"https://www.gymlibrary.dev/environments/classic_control/cart_pole/\"\n",
    "  scrolling=\"yes\"\n",
    "  style=\"width:100%;\"\n",
    "></iframe>"
   ]
  },
  {
   "cell_type": "code",
   "execution_count": 27,
   "metadata": {},
   "outputs": [
    {
     "data": {
      "text/html": [
       "\n",
       "        <iframe\n",
       "            width=\"1200\"\n",
       "            height=\"600\"\n",
       "            src=\"https://gymnasium.farama.org/environments/classic_control/cart_pole/\"\n",
       "            frameborder=\"0\"\n",
       "            allowfullscreen\n",
       "            \n",
       "        ></iframe>\n",
       "        "
      ],
      "text/plain": [
       "<IPython.lib.display.IFrame at 0x1231865c610>"
      ]
     },
     "execution_count": 27,
     "metadata": {},
     "output_type": "execute_result"
    }
   ],
   "source": [
    "from IPython.display import IFrame\n",
    "\n",
    "IFrame(src=\"https://gymnasium.farama.org/environments/classic_control/cart_pole/\", width=1200, height=600)"
   ]
  },
  {
   "cell_type": "code",
   "execution_count": 28,
   "metadata": {},
   "outputs": [
    {
     "name": "stdout",
     "output_type": "stream",
     "text": [
      "[-0.04715811  0.20874114  0.04903005 -0.3072619 ] 1.0 False False {}\n",
      "[-0.04298329  0.4031314   0.04288481 -0.58408785] 1.0 False False {}\n",
      "[-0.03492067  0.20743577  0.03120306 -0.27820998] 1.0 False False {}\n",
      "[-0.03077195  0.402099    0.02563886 -0.5608905 ] 1.0 False False {}\n",
      "[-0.02272997  0.59685194  0.01442104 -0.84538686] 1.0 False False {}\n",
      "[-0.01079293  0.79177415 -0.00248669 -1.1335002 ] 1.0 False False {}\n",
      "[ 0.00504255  0.9869286  -0.0251567  -1.426962  ] 1.0 False False {}\n",
      "[ 0.02478112  0.7921263  -0.05369594 -1.1422464 ] 1.0 False False {}\n",
      "[ 0.04062365  0.5977456  -0.07654087 -0.8668745 ] 1.0 False False {}\n",
      "[ 0.05257856  0.79382104 -0.09387835 -1.1826077 ] 1.0 False False {}\n",
      "[ 0.06845498  0.60003424 -0.1175305  -0.92076707] 1.0 False False {}\n",
      "[ 0.08045567  0.79653156 -0.13594584 -1.2479542 ] 1.0 False False {}\n",
      "[ 0.0963863   0.99310917 -0.16090493 -1.5799451 ] 1.0 False False {}\n",
      "[ 0.11624848  0.8002273  -0.19250384 -1.3414617 ] 1.0 False False {}\n",
      "[ 0.13225302  0.997179   -0.21933307 -1.6876794 ] 1.0 True False {}\n"
     ]
    }
   ],
   "source": [
    "for _ in range(1000):\n",
    "    obs, reward, done, truncated, info = env.step(env.action_space.sample())\n",
    "    print(obs, reward, done, truncated, info)\n",
    "    env.render()\n",
    "    if done:\n",
    "        break\n"
   ]
  },
  {
   "attachments": {},
   "cell_type": "markdown",
   "metadata": {},
   "source": [
    "Let's start by writing a function that takes an observation [cart_x, cart_v, pole_theta, pole_v] and returns a discretized state"
   ]
  },
  {
   "cell_type": "code",
   "execution_count": 29,
   "metadata": {},
   "outputs": [
    {
     "name": "stdout",
     "output_type": "stream",
     "text": [
      "100000000\n"
     ]
    }
   ],
   "source": [
    "cart_x_bins = np.linspace(-2.4, 2.4, 100)\n",
    "cart_v_bins = np.linspace(-5, 5, 100)\n",
    "pole_theta_bins = np.linspace(-0.22, 0.22, 100)\n",
    "pole_v_bins = np.linspace(-5, 5, 100)\n",
    "\n",
    "total_num_states = len(cart_x_bins) * len(cart_v_bins) * len(pole_theta_bins) * len(pole_v_bins)\n",
    "\n",
    "def discretize(observation):\n",
    "    cart_x, cart_v, pole_theta, pole_v = observation\n",
    "    cart_x = np.digitize(cart_x, cart_x_bins)\n",
    "    cart_v = np.digitize(cart_v, cart_v_bins)\n",
    "    pole_theta = np.digitize(pole_theta, pole_theta_bins)\n",
    "    pole_v = np.digitize(pole_v, pole_v_bins)\n",
    "    return cart_x, cart_v, pole_theta, pole_v\n",
    "\n",
    "print(total_num_states)"
   ]
  },
  {
   "cell_type": "code",
   "execution_count": 30,
   "metadata": {},
   "outputs": [
    {
     "name": "stdout",
     "output_type": "stream",
     "text": [
      "[ 0.13225302  0.997179   -0.21933307 -1.6876794 ] (53, 60, 1, 33)\n"
     ]
    }
   ],
   "source": [
    "print(obs, discretize(obs))"
   ]
  },
  {
   "cell_type": "code",
   "execution_count": 35,
   "metadata": {},
   "outputs": [],
   "source": [
    "_CartPole = namedtuple(\"_CartPole\", [\"cart_x\", \"cart_v\", \"pole_theta\", \"pole_v\", \"done\"])\n",
    "\n",
    "class CartPole(_CartPole, Node):\n",
    "    '''Node representation of a cart pole environment.'''\n",
    "    def get_children(cart_pole):\n",
    "        if cart_pole.done:\n",
    "            env.reset()\n",
    "            return set()\n",
    "        else:\n",
    "            return {cart_pole.make_move(0), cart_pole.make_move(1)}\n",
    "        \n",
    "    def make_move(cart_pole, index):\n",
    "        obs, reward, done, truncated, info = env.step(index)\n",
    "        cart_x, cart_v, pole_theta, pole_v = discretize(obs)\n",
    "        if done:\n",
    "            print(\"done\")\n",
    "        return CartPole(cart_x, cart_v, pole_theta, pole_v, done)\n",
    "    \n",
    "    def get_random_child(cart_pole):\n",
    "        return cart_pole.make_move(env.action_space.sample())\n",
    "    \n",
    "    def is_terminal(cart_pole):\n",
    "        return cart_pole.done\n",
    "    \n",
    "    def render(cart_pole):\n",
    "        env.render()"
   ]
  },
  {
   "cell_type": "code",
   "execution_count": 36,
   "metadata": {},
   "outputs": [],
   "source": [
    "def play_cartpole():\n",
    "    trial_rewards=[]\n",
    "    tree = MCTS()\n",
    "    # training\n",
    "    for trials in range(1000):\n",
    "        print(f\"{trials=}\")\n",
    "        for _ in range(5):\n",
    "            obs, _= env.reset(seed=42)\n",
    "            obs = discretize(obs)\n",
    "            cartpole = CartPole(*obs, False)\n",
    "            tree.do_rollout(cartpole)\n",
    "\n",
    "        \n",
    "       \n",
    "        if trials%10==0:\n",
    "            print(f\"trial {trials}\")\n",
    "            obs, _ = env.reset(seed=42)\n",
    "            obs = discretize(obs)\n",
    "            cartpole = CartPole(*obs, False)\n",
    "            time_step=0\n",
    "            while not cartpole.done:\n",
    "                old_cartpole=cartpole\n",
    "                cartpole = tree.choose(cartpole)\n",
    "                cartpole.render()\n",
    "                time_step+=1\n",
    "            print(f\"reward: {time_step}\")\n",
    "            print(f\"reward, number of visits: {tree.total_rewards[old_cartpole]}, {tree.number_of_visits[old_cartpole]}\")\n",
    "            trial_rewards.append(time_step)\n",
    "    \n",
    "    return trial_rewards"
   ]
  },
  {
   "cell_type": "code",
   "execution_count": 37,
   "metadata": {},
   "outputs": [
    {
     "name": "stdout",
     "output_type": "stream",
     "text": [
      "trials=0\n",
      "done\n",
      "done\n",
      "done\n"
     ]
    },
    {
     "ename": "KeyboardInterrupt",
     "evalue": "",
     "output_type": "error",
     "traceback": [
      "\u001b[1;31m---------------------------------------------------------------------------\u001b[0m",
      "\u001b[1;31mKeyboardInterrupt\u001b[0m                         Traceback (most recent call last)",
      "\u001b[1;32m~\\AppData\\Local\\Temp/ipykernel_8344/3916320003.py\u001b[0m in \u001b[0;36m<module>\u001b[1;34m\u001b[0m\n\u001b[1;32m----> 1\u001b[1;33m \u001b[0mrew\u001b[0m \u001b[1;33m=\u001b[0m \u001b[0mplay_cartpole\u001b[0m\u001b[1;33m(\u001b[0m\u001b[1;33m)\u001b[0m\u001b[1;33m\u001b[0m\u001b[1;33m\u001b[0m\u001b[0m\n\u001b[0m",
      "\u001b[1;32m~\\AppData\\Local\\Temp/ipykernel_8344/4152563770.py\u001b[0m in \u001b[0;36mplay_cartpole\u001b[1;34m()\u001b[0m\n\u001b[0;32m      9\u001b[0m             \u001b[0mobs\u001b[0m \u001b[1;33m=\u001b[0m \u001b[0mdiscretize\u001b[0m\u001b[1;33m(\u001b[0m\u001b[0mobs\u001b[0m\u001b[1;33m)\u001b[0m\u001b[1;33m\u001b[0m\u001b[1;33m\u001b[0m\u001b[0m\n\u001b[0;32m     10\u001b[0m             \u001b[0mcartpole\u001b[0m \u001b[1;33m=\u001b[0m \u001b[0mCartPole\u001b[0m\u001b[1;33m(\u001b[0m\u001b[1;33m*\u001b[0m\u001b[0mobs\u001b[0m\u001b[1;33m,\u001b[0m \u001b[1;32mFalse\u001b[0m\u001b[1;33m)\u001b[0m\u001b[1;33m\u001b[0m\u001b[1;33m\u001b[0m\u001b[0m\n\u001b[1;32m---> 11\u001b[1;33m             \u001b[0mtree\u001b[0m\u001b[1;33m.\u001b[0m\u001b[0mdo_rollout\u001b[0m\u001b[1;33m(\u001b[0m\u001b[0mcartpole\u001b[0m\u001b[1;33m)\u001b[0m\u001b[1;33m\u001b[0m\u001b[1;33m\u001b[0m\u001b[0m\n\u001b[0m\u001b[0;32m     12\u001b[0m \u001b[1;33m\u001b[0m\u001b[0m\n\u001b[0;32m     13\u001b[0m \u001b[1;33m\u001b[0m\u001b[0m\n",
      "\u001b[1;32m~\\AppData\\Local\\Temp/ipykernel_8344/3314008437.py\u001b[0m in \u001b[0;36mdo_rollout\u001b[1;34m(self, node)\u001b[0m\n\u001b[0;32m     27\u001b[0m     \u001b[1;32mdef\u001b[0m \u001b[0mdo_rollout\u001b[0m\u001b[1;33m(\u001b[0m\u001b[0mself\u001b[0m\u001b[1;33m,\u001b[0m \u001b[0mnode\u001b[0m\u001b[1;33m:\u001b[0m\u001b[0mNode\u001b[0m\u001b[1;33m)\u001b[0m\u001b[1;33m:\u001b[0m\u001b[1;33m\u001b[0m\u001b[1;33m\u001b[0m\u001b[0m\n\u001b[0;32m     28\u001b[0m         \u001b[1;34m'''MCTS rollout algorithm'''\u001b[0m\u001b[1;33m\u001b[0m\u001b[1;33m\u001b[0m\u001b[0m\n\u001b[1;32m---> 29\u001b[1;33m         \u001b[0mpath\u001b[0m \u001b[1;33m=\u001b[0m \u001b[0mself\u001b[0m\u001b[1;33m.\u001b[0m\u001b[0m_select\u001b[0m\u001b[1;33m(\u001b[0m\u001b[0mnode\u001b[0m\u001b[1;33m)\u001b[0m \u001b[1;31m# first select an unexplored node\u001b[0m\u001b[1;33m\u001b[0m\u001b[1;33m\u001b[0m\u001b[0m\n\u001b[0m\u001b[0;32m     30\u001b[0m         \u001b[0munexplored_node\u001b[0m \u001b[1;33m=\u001b[0m \u001b[0mpath\u001b[0m\u001b[1;33m[\u001b[0m\u001b[1;33m-\u001b[0m\u001b[1;36m1\u001b[0m\u001b[1;33m]\u001b[0m\u001b[1;33m\u001b[0m\u001b[1;33m\u001b[0m\u001b[0m\n\u001b[0;32m     31\u001b[0m         \u001b[0mself\u001b[0m\u001b[1;33m.\u001b[0m\u001b[0m_expand\u001b[0m\u001b[1;33m(\u001b[0m\u001b[0munexplored_node\u001b[0m\u001b[1;33m)\u001b[0m\u001b[1;33m\u001b[0m\u001b[1;33m\u001b[0m\u001b[0m\n",
      "\u001b[1;32m~\\AppData\\Local\\Temp/ipykernel_8344/3314008437.py\u001b[0m in \u001b[0;36m_select\u001b[1;34m(self, node)\u001b[0m\n\u001b[0;32m     45\u001b[0m                 \u001b[0mpath\u001b[0m\u001b[1;33m.\u001b[0m\u001b[0mappend\u001b[0m\u001b[1;33m(\u001b[0m\u001b[0mnext_node\u001b[0m\u001b[1;33m)\u001b[0m\u001b[1;33m\u001b[0m\u001b[1;33m\u001b[0m\u001b[0m\n\u001b[0;32m     46\u001b[0m                 \u001b[1;32mreturn\u001b[0m \u001b[0mpath\u001b[0m\u001b[1;33m\u001b[0m\u001b[1;33m\u001b[0m\u001b[0m\n\u001b[1;32m---> 47\u001b[1;33m             \u001b[0mnode\u001b[0m \u001b[1;33m=\u001b[0m \u001b[0mself\u001b[0m\u001b[1;33m.\u001b[0m\u001b[0m_uct_select\u001b[0m\u001b[1;33m(\u001b[0m\u001b[0mnode\u001b[0m\u001b[1;33m)\u001b[0m\u001b[1;33m\u001b[0m\u001b[1;33m\u001b[0m\u001b[0m\n\u001b[0m\u001b[0;32m     48\u001b[0m \u001b[1;33m\u001b[0m\u001b[0m\n\u001b[0;32m     49\u001b[0m     \u001b[1;32mdef\u001b[0m \u001b[0m_expand\u001b[0m\u001b[1;33m(\u001b[0m\u001b[0mself\u001b[0m\u001b[1;33m,\u001b[0m \u001b[0mnode\u001b[0m\u001b[1;33m:\u001b[0m\u001b[0mNode\u001b[0m\u001b[1;33m)\u001b[0m\u001b[1;33m:\u001b[0m\u001b[1;33m\u001b[0m\u001b[1;33m\u001b[0m\u001b[0m\n",
      "\u001b[1;32m~\\AppData\\Local\\Temp/ipykernel_8344/3314008437.py\u001b[0m in \u001b[0;36m_uct_select\u001b[1;34m(self, node)\u001b[0m\n\u001b[0;32m     77\u001b[0m             \u001b[1;32mreturn\u001b[0m \u001b[0mself\u001b[0m\u001b[1;33m.\u001b[0m\u001b[0mtotal_rewards\u001b[0m\u001b[1;33m[\u001b[0m\u001b[0mn\u001b[0m\u001b[1;33m]\u001b[0m\u001b[1;33m/\u001b[0m\u001b[0mself\u001b[0m\u001b[1;33m.\u001b[0m\u001b[0mnumber_of_visits\u001b[0m\u001b[1;33m[\u001b[0m\u001b[0mn\u001b[0m\u001b[1;33m]\u001b[0m \u001b[1;33m+\u001b[0m \u001b[0mself\u001b[0m\u001b[1;33m.\u001b[0m\u001b[0mexploration_weight\u001b[0m \u001b[1;33m*\u001b[0m \u001b[0mmath\u001b[0m\u001b[1;33m.\u001b[0m\u001b[0msqrt\u001b[0m\u001b[1;33m(\u001b[0m\u001b[0mlog_number_of_visits_vertex\u001b[0m\u001b[1;33m/\u001b[0m\u001b[0mself\u001b[0m\u001b[1;33m.\u001b[0m\u001b[0mnumber_of_visits\u001b[0m\u001b[1;33m[\u001b[0m\u001b[0mn\u001b[0m\u001b[1;33m]\u001b[0m\u001b[1;33m)\u001b[0m\u001b[1;33m\u001b[0m\u001b[1;33m\u001b[0m\u001b[0m\n\u001b[0;32m     78\u001b[0m \u001b[1;33m\u001b[0m\u001b[0m\n\u001b[1;32m---> 79\u001b[1;33m         \u001b[1;32mreturn\u001b[0m \u001b[0mmax\u001b[0m\u001b[1;33m(\u001b[0m\u001b[0mself\u001b[0m\u001b[1;33m.\u001b[0m\u001b[0mchildren\u001b[0m\u001b[1;33m[\u001b[0m\u001b[0mnode\u001b[0m\u001b[1;33m]\u001b[0m\u001b[1;33m,\u001b[0m \u001b[0mkey\u001b[0m\u001b[1;33m=\u001b[0m\u001b[0muct\u001b[0m\u001b[1;33m)\u001b[0m\u001b[1;33m\u001b[0m\u001b[1;33m\u001b[0m\u001b[0m\n\u001b[0m",
      "\u001b[1;32m~\\AppData\\Local\\Temp/ipykernel_8344/3314008437.py\u001b[0m in \u001b[0;36muct\u001b[1;34m(n)\u001b[0m\n\u001b[0;32m     75\u001b[0m \u001b[1;33m\u001b[0m\u001b[0m\n\u001b[0;32m     76\u001b[0m         \u001b[1;32mdef\u001b[0m \u001b[0muct\u001b[0m\u001b[1;33m(\u001b[0m\u001b[0mn\u001b[0m\u001b[1;33m:\u001b[0m\u001b[0mNode\u001b[0m\u001b[1;33m)\u001b[0m\u001b[1;33m:\u001b[0m\u001b[1;33m\u001b[0m\u001b[1;33m\u001b[0m\u001b[0m\n\u001b[1;32m---> 77\u001b[1;33m             \u001b[1;32mreturn\u001b[0m \u001b[0mself\u001b[0m\u001b[1;33m.\u001b[0m\u001b[0mtotal_rewards\u001b[0m\u001b[1;33m[\u001b[0m\u001b[0mn\u001b[0m\u001b[1;33m]\u001b[0m\u001b[1;33m/\u001b[0m\u001b[0mself\u001b[0m\u001b[1;33m.\u001b[0m\u001b[0mnumber_of_visits\u001b[0m\u001b[1;33m[\u001b[0m\u001b[0mn\u001b[0m\u001b[1;33m]\u001b[0m \u001b[1;33m+\u001b[0m \u001b[0mself\u001b[0m\u001b[1;33m.\u001b[0m\u001b[0mexploration_weight\u001b[0m \u001b[1;33m*\u001b[0m \u001b[0mmath\u001b[0m\u001b[1;33m.\u001b[0m\u001b[0msqrt\u001b[0m\u001b[1;33m(\u001b[0m\u001b[0mlog_number_of_visits_vertex\u001b[0m\u001b[1;33m/\u001b[0m\u001b[0mself\u001b[0m\u001b[1;33m.\u001b[0m\u001b[0mnumber_of_visits\u001b[0m\u001b[1;33m[\u001b[0m\u001b[0mn\u001b[0m\u001b[1;33m]\u001b[0m\u001b[1;33m)\u001b[0m\u001b[1;33m\u001b[0m\u001b[1;33m\u001b[0m\u001b[0m\n\u001b[0m\u001b[0;32m     78\u001b[0m \u001b[1;33m\u001b[0m\u001b[0m\n\u001b[0;32m     79\u001b[0m         \u001b[1;32mreturn\u001b[0m \u001b[0mmax\u001b[0m\u001b[1;33m(\u001b[0m\u001b[0mself\u001b[0m\u001b[1;33m.\u001b[0m\u001b[0mchildren\u001b[0m\u001b[1;33m[\u001b[0m\u001b[0mnode\u001b[0m\u001b[1;33m]\u001b[0m\u001b[1;33m,\u001b[0m \u001b[0mkey\u001b[0m\u001b[1;33m=\u001b[0m\u001b[0muct\u001b[0m\u001b[1;33m)\u001b[0m\u001b[1;33m\u001b[0m\u001b[1;33m\u001b[0m\u001b[0m\n",
      "\u001b[1;31mKeyboardInterrupt\u001b[0m: "
     ]
    }
   ],
   "source": [
    "\n",
    "rew = play_cartpole()"
   ]
  },
  {
   "cell_type": "code",
   "execution_count": null,
   "metadata": {},
   "outputs": [
    {
     "name": "stdout",
     "output_type": "stream",
     "text": [
      "[81, 12, 31, 14, 25, 18, 10, 2, 2, 2]\n"
     ]
    },
    {
     "data": {
      "image/png": "[encoded data removed]",
      "text/plain": [
       "<Figure size 432x288 with 1 Axes>"
      ]
     },
     "metadata": {
      "needs_background": "light"
     },
     "output_type": "display_data"
    }
   ],
   "source": [
    "plt.plot(range(len(rew)), rew)\n",
    "print(rew)"
   ]
  },
  {
   "cell_type": "code",
   "execution_count": null,
   "metadata": {},
   "outputs": [],
   "source": []
  }
 ],
 "metadata": {
  "kernelspec": {
   "display_name": "Python 3",
   "language": "python",
   "name": "python3"
  },
  "language_info": {
   "codemirror_mode": {
    "name": "ipython",
    "version": 3
   },
   "file_extension": ".py",
   "mimetype": "text/x-python",
   "name": "python",
   "nbconvert_exporter": "python",
   "pygments_lexer": "ipython3",
   "version": "3.10.2"
  },
  "orig_nbformat": 4,
  "vscode": {
   "interpreter": {
    "hash": "369f2c481f4da34e4445cda3fffd2e751bd1c4d706f27375911949ba6bb62e1c"
   }
  }
 },
 "nbformat": 4,
 "nbformat_minor": 2
}
